{
 "cells": [
  {
   "cell_type": "code",
   "execution_count": 1,
   "id": "a613936f",
   "metadata": {},
   "outputs": [],
   "source": [
    "import pandas as pd\n",
    "import re\n",
    "from functools import partial"
   ]
  },
  {
   "cell_type": "code",
   "execution_count": 2,
   "id": "370912ee",
   "metadata": {},
   "outputs": [],
   "source": [
    "comments = pd.read_csv('comments.csv').drop('Unnamed: 0', axis=1)\n",
    "word_cnt = pd.read_csv('word_freq.csv').drop('Unnamed: 0', axis=1)\n",
    "carbrands_models = pd.read_csv('carmodels_brands.csv')"
   ]
  },
  {
   "cell_type": "code",
   "execution_count": 3,
   "id": "43e2b30a",
   "metadata": {},
   "outputs": [
    {
     "name": "stdout",
     "output_type": "stream",
     "text": [
      "no of brands 40\n",
      "missing brands: {'hyndai kia', 'toyata', 'mercedes benz', 'mercedes-benz'}\n"
     ]
    }
   ],
   "source": [
    "#getting all the unique brands \n",
    "car_brands = list(set(carbrands_models['Brand']))\n",
    "car_brands = [re.compile(r'[,.]').sub('', i) for i in car_brands]\n",
    "print(\"no of brands\", len(car_brands))\n",
    "wordfreq_dict = dict(word_cnt[['word', 'frequency']].values)\n",
    "missing_brands = set(car_brands) - set(wordfreq_dict.keys())\n",
    "print(\"missing brands:\", missing_brands)"
   ]
  },
  {
   "cell_type": "code",
   "execution_count": 4,
   "id": "5cc2bfd3",
   "metadata": {},
   "outputs": [
    {
     "name": "stdout",
     "output_type": "stream",
     "text": [
      "[]\n",
      "['kia', 'kias', 'nokkia']\n",
      "[]\n",
      "[]\n",
      "[]\n",
      "['mercedes']\n",
      "['benz', 'benzes', 'benzs']\n",
      "[]\n",
      "[]\n",
      "['mercedes']\n",
      "['benz', 'benzes', 'benzs']\n"
     ]
    }
   ],
   "source": [
    "for brand in missing_brands:\n",
    "    try:       \n",
    "        for i in brand.split(' '):\n",
    "            print([word for word in list(wordfreq_dict.keys()) if i in str(word)])\n",
    "        for i in brand.split('-'):\n",
    "            print([word for word in list(wordfreq_dict.keys()) if i in str(word)])\n",
    "    except Exception as e:\n",
    "        print(brand)\n",
    "# considering hyndai kia as kia, mercedes-benz as benz , mercedes benz as benz,toyata as toyota\n",
    "mis_brand_handle = {'hyndai kia': 'kia', 'mercedes-benz': 'benz', 'mercedes benz': 'benz', 'toyata': 'toyota'}\n",
    "car_brands = [mis_brand_handle[b] if b in list(mis_brand_handle.keys()) else b for b in car_brands]"
   ]
  },
  {
   "cell_type": "code",
   "execution_count": 5,
   "id": "7d058293",
   "metadata": {},
   "outputs": [],
   "source": [
    "mis_brand_handle_t = {'kia': ['hyndai kia'], 'benz': ['mercedes-benz', 'mercedes benz' ], 'toyota': ['toyota']}"
   ]
  },
  {
   "cell_type": "code",
   "execution_count": 6,
   "id": "456244f1",
   "metadata": {},
   "outputs": [],
   "source": [
    "def get_lift_value(a_brand, b_brand, comments, mis_brand_handle_t):\n",
    "    \"\"\"\n",
    "    returns the lift value for given two brands \n",
    "    \"\"\"\n",
    "    p_a_b = 0\n",
    "    p_a =0\n",
    "    p_b =0\n",
    "    for comment in comments:\n",
    "        p_a_tmp =0\n",
    "        p_b_tmp =0\n",
    "        if type(comment) == float:\n",
    "            continue\n",
    "        else:\n",
    "            for word in comment.split():\n",
    "                word = re.sub(r'[^\\w]', ' ', word).strip().lower()\n",
    "                if \" \" in word:\n",
    "                    for w in word.split():\n",
    "                        w = re.sub(r'[^\\w]', ' ', w).strip().lower()\n",
    "                        if a_brand in w or w in a_brand:\n",
    "                            p_a_tmp+= 1\n",
    "                        if b_brand in w or w in b_brand:\n",
    "                            p_b_tmp+=1\n",
    "                        if a_brand in mis_brand_handle_t:\n",
    "                            p_a_tmp = p_a_tmp + sum([1 for brand in mis_brand_handle_t[a_brand] \n",
    "                                                     if brand in w or word in brand])\n",
    "                        if b_brand in mis_brand_handle_t:\n",
    "                            p_b_tmp = p_b_tmp + sum([1 for brand in mis_brand_handle_t[b_brand] \n",
    "                                                     if brand in w or w in brand])\n",
    "                            \n",
    "                else:\n",
    "                    if a_brand in word or word in a_brand:\n",
    "                        p_a_tmp+= 1\n",
    "                    if b_brand in word or word in b_brand:\n",
    "                        p_b_tmp+=1\n",
    "                    if a_brand in mis_brand_handle_t:\n",
    "                        p_a_tmp = p_a_tmp + sum([1 for brand in mis_brand_handle_t[a_brand] \n",
    "                                                 if brand in word or word in brand])\n",
    "                    if b_brand in mis_brand_handle_t:\n",
    "                        p_b_tmp = p_b_tmp + sum([1 for brand in mis_brand_handle_t[b_brand] \n",
    "                                                 if brand in word or word in brand])\n",
    "        if p_a_tmp>0:\n",
    "            p_a+=1\n",
    "        if p_b_tmp>0:\n",
    "            p_b+=1\n",
    "        if p_a_tmp >0 and p_b_tmp > 0:\n",
    "            p_a_b+=1\n",
    "    if p_a > 0 and p_b >0:\n",
    "        return  (p_a_b / len(comments)) / ((p_a/len(comments)) * (p_b/len(comments)))\n",
    "    else:\n",
    "        return 0"
   ]
  },
  {
   "cell_type": "code",
   "execution_count": 7,
   "id": "fc5fb709",
   "metadata": {},
   "outputs": [],
   "source": [
    "comments = comments['comments']"
   ]
  },
  {
   "cell_type": "code",
   "execution_count": 8,
   "id": "171b9822",
   "metadata": {},
   "outputs": [],
   "source": [
    "# fixing the arguments comemnts and mis_brand_handle_t for function get_lift_value\n",
    "get_lift_value_p = partial(get_lift_value, comments=comments, mis_brand_handle_t= mis_brand_handle_t)"
   ]
  },
  {
   "cell_type": "code",
   "execution_count": 9,
   "id": "dcd4fefd",
   "metadata": {},
   "outputs": [],
   "source": [
    "# car_brands = car_brands[:5]"
   ]
  },
  {
   "cell_type": "code",
   "execution_count": 10,
   "id": "04115e78",
   "metadata": {
    "scrolled": true
   },
   "outputs": [
    {
     "name": "stdout",
     "output_type": "stream",
     "text": [
      "CPU times: total: 8min 37s\n",
      "Wall time: 8min 38s\n"
     ]
    }
   ],
   "source": [
    "%%time\n",
    "import numpy as np\n",
    "lift_values = []\n",
    "for i_1, brand_1 in dict(list(enumerate(car_brands))).items():\n",
    "    lift_value_tmp = []\n",
    "    for i_2, brand_2 in dict(list(enumerate(car_brands))).items():\n",
    "        if i_2 == i_1:\n",
    "            lift_value_tmp.append(1)\n",
    "        elif i_2 < i_1:\n",
    "            lift_value_tmp.append(lift_values[i_2][i_1])\n",
    "        else:\n",
    "            lift_value_tmp.append(get_lift_value_p(brand_1, brand_2))\n",
    "    lift_values.append(lift_value_tmp)  "
   ]
  },
  {
   "cell_type": "code",
   "execution_count": 14,
   "id": "0fb38ce0",
   "metadata": {},
   "outputs": [],
   "source": [
    "# lift_values = pd.DataFrame(lift_values, columns=car_brands, index=car_brands)\n",
    "lift_values.to_csv('lift_values.csv')"
   ]
  },
  {
   "cell_type": "code",
   "execution_count": 12,
   "id": "9e160b52",
   "metadata": {},
   "outputs": [],
   "source": [
    "# df = pd.DataFrame(columns=car_brands, index=car_brands)\n",
    "# df[car_brands] = 0\n",
    "# df"
   ]
  },
  {
   "cell_type": "code",
   "execution_count": 13,
   "id": "9ab4ef12",
   "metadata": {},
   "outputs": [],
   "source": [
    "# df = df.apply(lambda row: row.name==row.)"
   ]
  },
  {
   "cell_type": "code",
   "execution_count": null,
   "id": "dc4c8e18",
   "metadata": {},
   "outputs": [],
   "source": []
  }
 ],
 "metadata": {
  "kernelspec": {
   "display_name": "Python 3 (ipykernel)",
   "language": "python",
   "name": "python3"
  },
  "language_info": {
   "codemirror_mode": {
    "name": "ipython",
    "version": 3
   },
   "file_extension": ".py",
   "mimetype": "text/x-python",
   "name": "python",
   "nbconvert_exporter": "python",
   "pygments_lexer": "ipython3",
   "version": "3.10.5"
  }
 },
 "nbformat": 4,
 "nbformat_minor": 5
}
