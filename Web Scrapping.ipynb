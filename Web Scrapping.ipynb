{
 "cells": [
  {
   "cell_type": "code",
   "execution_count": 1,
   "id": "0872af92",
   "metadata": {},
   "outputs": [],
   "source": [
    "from selenium import webdriver\n",
    "from selenium.webdriver.chrome.options import Options\n",
    "from selenium.webdriver.common.by import By\n",
    "from selenium.common.exceptions import NoSuchElementException\n",
    "from selenium.webdriver.support.wait import WebDriverWait\n",
    "from selenium.webdriver.support import expected_conditions as EC\n"
   ]
  },
  {
   "cell_type": "code",
   "execution_count": 4,
   "id": "26168081",
   "metadata": {
    "scrolled": true
   },
   "outputs": [
    {
     "name": "stderr",
     "output_type": "stream",
     "text": [
      "<ipython-input-4-2847a1fde90f>:12: DeprecationWarning: executable_path has been deprecated, please pass in a Service object\n",
      "  driver = webdriver.Chrome(options=options, executable_path=DRIVER_PATH)\n"
     ]
    }
   ],
   "source": [
    "# Windows\n",
    "# DRIVER_PATH = r'C:\\Users\\Kevin Hou\\Unstructured\\chromedriver.exe'\n",
    "\n",
    "# Mac\n",
    "DRIVER_PATH = r'/Users/kevin/Desktop/Unstructured/A1/chromedriver'\n",
    "\n",
    "\n",
    "options = Options()\n",
    "options.headless = True\n",
    "options.add_argument(\"--window-size=1920,1200\")\n",
    "\n",
    "driver = webdriver.Chrome(options=options, executable_path=DRIVER_PATH)"
   ]
  },
  {
   "cell_type": "code",
   "execution_count": 5,
   "id": "775a5027",
   "metadata": {},
   "outputs": [],
   "source": [
    "driver.get(\"https://forums.edmunds.com/discussion/2864/general/x/entry-level-luxury-performance-sedans\")"
   ]
  },
  {
   "cell_type": "code",
   "execution_count": 6,
   "id": "8a05531d",
   "metadata": {},
   "outputs": [],
   "source": [
    "dict = {}\n",
    "msg_list = driver.find_elements(By.CLASS_NAME, 'ItemComment')\n",
    "len(msg_list)\n",
    "for comment in msg_list:\n",
    "    time = comment.find_elements(By.TAG_NAME, 'time')[0].get_attribute('datetime').split('T')[0]\n",
    "    dict[comment.get_attribute(\"id\")] = [time, comment.find_elements(By.CLASS_NAME, 'Message')[0].text]"
   ]
  },
  {
   "cell_type": "code",
   "execution_count": 47,
   "id": "ac48736f",
   "metadata": {},
   "outputs": [
    {
     "name": "stdout",
     "output_type": "stream",
     "text": [
      "March 2002\n",
      "merc1\n",
      "I personally think that with a few tweaks the C320 could also sit at the top of this group. It's still more of a entry-level luxury sedan than Mercedes would lead you to believe. The C320 \"Sport\" needs to have it's suspension retuned to accept 17 inch tires without a harsh ride. MB also needs to stop forcing metal trim and black leather on everyone that wants the sport package. The C240's 6-speed wouldn't hurt either if offered on the C320, though it needs to be \"fixed\" first.\n",
      "\n",
      "That said, my favorite of the group is (gasp!) the new A4 3.0. The A4 easily has the best interior of any sub-40K car, combine that with stunning looks and a body that is as rigid as any ever made and you have my personal favorite. The single thing I don't like about the A4 is the grey trim around the bottom of the car. This trim doesn't match any of the body colors, as it should be body color anyway. This is an excellent car and in my opinion the best there is under 40K. The upcoming A4 Convertible, Coupe and S4 WILL all be winners.\n",
      "\n",
      "The BMW 330i is now an old favorite, but I'm (of all people) starting to tire of the 3-Series just a bit, save the M3 variants. I was kind of dissappointed by the 2002 facelift, they could have done a little more in the way of styling. I hope they do a little more for 2003 with the coupe models.\n",
      "\n",
      "The Acura TL-S is easily my favorite fwd car in this class. Wonderful engine (you actually can hear it) and decent handling for a front driver. Nice price, seats and what not, not hard to see why the TL is so popular. This car's main faults are styling and obvious cost-cutting in the interior, stereo, fake wood etc. Otherwise a standout.\n",
      "\n",
      "Lexus ES300. Nice, but not my type of car at all. This is one for the Buick set. The IS300 is half baked, but has a wonderful chassis. Styling is also in question here, it simply doesn't look like a 35K car (grown). The interior is gawd-awful. Bet on the next IS300 being done right from the start. In their defense Toyota didn't initially intend for this car to be sold in the U.S. so it was a rush job.\n",
      "\n",
      "The CTS holds the greatest unrealized potential here. I've seen several now, and each time I see one they look better and better. Again like the C320, IS300 the car has interior issues. The dash feels like it was made by Rubbermaid. If you're going to be stingy with wood trim, why bother? Half of the steering wheel in wood, and very little anywhere else in the car??? The seats are very good though, as is the handling. A work in progress.\n",
      "\n",
      "The G35 looks like it may have a winning chassis, but the interior, though clean looking seems to be styled about 10 years ago, lots of square shapes and flat surfaces. Another great engine, waiting to drive this one.\n",
      "\n",
      "Don't really care much for the X-Type. If I were a Jaguar man I'd be truly pissed at Ford and Jaguar for this one. They are actually selling a fwd X-Type in England and I've read where they're thinking about selling it here! Hell no. The car should have been rwd not awd. Some will tell you that this was done to compete with Audi. Thats BS, awd was the only way to keep the car from being fwd, WITHOUT spending the money to convert the car to rwd. It is a good looking car though and that Jaguar \"leaper\" will be enough for some, but this car has to grow on me.\n",
      "\n",
      "The Chrysler 300M is about as close to an Audi that American cars come. This new 300M \"Special\" is truly a good looking car inside and out. One problem: Where is the performance???? A 255hp car *in this class) with a 0-60 time over 8 seconds is not accpetable. Something is not right here. Some say engine, transmission and/or gearing, but whatever it is, Chrysler needs to let some MB engineers have a look at this car. The heavier E320 with less power is faster. I still like this car, but it's no lust object once you get past the great styling.\n",
      "\n",
      "M\n",
      "March 2002\n"
     ]
    }
   ],
   "source": [
    "user_message = driver.find_elements(by=By.XPATH, value ='//main/div[4]/div[1]/ul')\n",
    "user_message_list = user_message[0].find_elements(By.TAG_NAME, \"li\")\n",
    "\n",
    "print(user_message_list[0].find_elements(By.TAG_NAME, \"a\")[2].text)\n",
    "print(user_message_list[0].find_elements(By.TAG_NAME, \"a\")[1].text)\n",
    "print(user_message_list[0].find_elements(By.CLASS_NAME, \"Item-BodyWrap\")[0].text)\n",
    "print(user_message_list[0].find_elements(By.TAG_NAME, \"time\")[0].text)\n"
   ]
  },
  {
   "cell_type": "code",
   "execution_count": 5,
   "id": "5105e045",
   "metadata": {
    "scrolled": true
   },
   "outputs": [],
   "source": [
    "\n",
    "for i in range(2, 101):\n",
    "   \n",
    "    driver.get(\"https://forums.edmunds.com/discussion/2864/general/x/entry-level-luxury-performance-sedans/p\" + str(i))\n",
    "    # cur_list = driver.find_elements(By.CLASS_NAME, 'ItemComment')\n",
    "    # for comment in cur_list:\n",
    "    #     if comment.get_attribute(\"id\") in dict:\n",
    "    #         print(\"1\")\n",
    "    #     time = comment.find_elements(By.TAG_NAME, 'time')[0].get_attribute('datetime').split('T')[0]\n",
    "    #     dict[comment.get_attribute(\"id\")] = [time, comment.find_elements(By.CLASS_NAME, 'Message')[0].text]\n",
    "    user_message = driver.find_elements(by=By.XPATH, value ='//main/div[4]/div[1]/ul')\n",
    "    user_message_list = user_message[0].find_elements(By.TAG_NAME, \"li\")\n",
    "\n"
   ]
  },
  {
   "cell_type": "code",
   "execution_count": 72,
   "id": "23954331",
   "metadata": {},
   "outputs": [
    {
     "data": {
      "text/html": [
       "<div>\n",
       "<style scoped>\n",
       "    .dataframe tbody tr th:only-of-type {\n",
       "        vertical-align: middle;\n",
       "    }\n",
       "\n",
       "    .dataframe tbody tr th {\n",
       "        vertical-align: top;\n",
       "    }\n",
       "\n",
       "    .dataframe thead th {\n",
       "        text-align: right;\n",
       "    }\n",
       "</style>\n",
       "<table border=\"1\" class=\"dataframe\">\n",
       "  <thead>\n",
       "    <tr style=\"text-align: right;\">\n",
       "      <th></th>\n",
       "      <th>user_id</th>\n",
       "      <th>Date</th>\n",
       "      <th>comments</th>\n",
       "    </tr>\n",
       "  </thead>\n",
       "  <tbody>\n",
       "    <tr>\n",
       "      <th>count</th>\n",
       "      <td>50</td>\n",
       "      <td>50</td>\n",
       "      <td>50</td>\n",
       "    </tr>\n",
       "    <tr>\n",
       "      <th>unique</th>\n",
       "      <td>19</td>\n",
       "      <td>1</td>\n",
       "      <td>50</td>\n",
       "    </tr>\n",
       "    <tr>\n",
       "      <th>top</th>\n",
       "      <td>kdshapiro</td>\n",
       "      <td>January 2004</td>\n",
       "      <td>I saw the arguments about the TL and the 330. ...</td>\n",
       "    </tr>\n",
       "    <tr>\n",
       "      <th>freq</th>\n",
       "      <td>15</td>\n",
       "      <td>50</td>\n",
       "      <td>1</td>\n",
       "    </tr>\n",
       "  </tbody>\n",
       "</table>\n",
       "</div>"
      ],
      "text/plain": [
       "          user_id          Date  \\\n",
       "count          50            50   \n",
       "unique         19             1   \n",
       "top     kdshapiro  January 2004   \n",
       "freq           15            50   \n",
       "\n",
       "                                                 comments  \n",
       "count                                                  50  \n",
       "unique                                                 50  \n",
       "top     I saw the arguments about the TL and the 330. ...  \n",
       "freq                                                    1  "
      ]
     },
     "execution_count": 72,
     "metadata": {},
     "output_type": "execute_result"
    }
   ],
   "source": [
    "import pandas as pd\n",
    "\n",
    "all_comments = pd.DataFrame(columns = ['user_id','Date','comments']) \n",
    "\n",
    "user_message = driver.find_elements(by=By.XPATH, value ='//main/div[4]/div[1]/ul')\n",
    "user_message_list = user_message[0].find_elements(By.TAG_NAME, \"li\")\n",
    "for element in user_message_list:\n",
    "     author = element.find_elements(By.CLASS_NAME, \"Author\")[0].text\n",
    "     date = element.find_elements(By.TAG_NAME, \"time\")[0].text\n",
    "     comment = element.find_elements(By.CLASS_NAME, \"Item-Body\")[0].text\n",
    "\n",
    "     all_comments.loc[len(all_comments.index)] = [author, date, comment]\n",
    "\n",
    "all_comments.describe()\n"
   ]
  },
  {
   "cell_type": "code",
   "execution_count": 74,
   "id": "1538fa6a",
   "metadata": {},
   "outputs": [],
   "source": [
    "author_list = []\n",
    "date_list = []\n",
    "context_list = []\n",
    "\n",
    "for i in range(2, 101):\n",
    "   driver.get(\"https://forums.edmunds.com/discussion/2864/general/x/entry-level-luxury-performance-sedans/p\" + str(i))\n",
    "   user_message = driver.find_elements(by=By.XPATH, value ='//main/div[4]/div[1]/ul')\n",
    "   user_message_list = user_message[0].find_elements(By.TAG_NAME, \"li\")\n",
    "\n",
    "   temp_comments = pd.DataFrame(columns = ['user_id','Date','comments'])\n",
    "\n",
    "   for element in user_message_list:\n",
    "      author = element.find_elements(By.CLASS_NAME, \"Author\")[0].text\n",
    "      author_list.append(author)\n",
    "      date = element.find_elements(By.TAG_NAME, \"time\")[0].text\n",
    "      date_list.append(date)\n",
    "      comment = element.find_elements(By.CLASS_NAME, \"Item-Body\")[0].text\n",
    "      context_list.append(comment)\n",
    "  \n",
    "   \n",
    "comments_df = pd.DataFrame({'user_id': author_list, 'Date': date_list, 'comments':context_list})"
   ]
  },
  {
   "cell_type": "code",
   "execution_count": 82,
   "id": "9813a9be",
   "metadata": {},
   "outputs": [],
   "source": [
    "final_df = all_comments.append(comments_df)\n",
    "final_df.count()\n",
    "final_df.to_csv('comments.csv')"
   ]
  },
  {
   "cell_type": "code",
   "execution_count": null,
   "id": "f86c3f04",
   "metadata": {},
   "outputs": [],
   "source": [
    "driver.quit()"
   ]
  }
 ],
 "metadata": {
  "kernelspec": {
   "display_name": "Python 3.9.1 64-bit",
   "language": "python",
   "name": "python3"
  },
  "language_info": {
   "codemirror_mode": {
    "name": "ipython",
    "version": 3
   },
   "file_extension": ".py",
   "mimetype": "text/x-python",
   "name": "python",
   "nbconvert_exporter": "python",
   "pygments_lexer": "ipython3",
   "version": "3.9.1"
  },
  "vscode": {
   "interpreter": {
    "hash": "aee8b7b246df8f9039afb4144a1f6fd8d2ca17a180786b69acc140d282b71a49"
   }
  }
 },
 "nbformat": 4,
 "nbformat_minor": 5
}
